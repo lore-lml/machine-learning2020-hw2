{
 "nbformat": 4,
 "nbformat_minor": 0,
 "metadata": {
  "colab": {
   "name": "hw2-Data Augmentation.ipynb",
   "provenance": [],
   "collapsed_sections": [],
   "toc_visible": true
  },
  "kernelspec": {
   "name": "python3",
   "language": "python",
   "display_name": "Python 3"
  },
  "accelerator": "GPU",
  "pycharm": {
   "stem_cell": {
    "cell_type": "raw",
    "source": [],
    "metadata": {
     "collapsed": false
    }
   }
  }
 },
 "cells": [
  {
   "cell_type": "markdown",
   "metadata": {
    "id": "c9QcGnGPdX2C",
    "colab_type": "text"
   },
   "source": [
    "**Install requirements**"
   ]
  },
  {
   "cell_type": "code",
   "metadata": {
    "id": "k9O3aM3Tb28q",
    "colab_type": "code",
    "pycharm": {
     "is_executing": false
    },
    "colab": {}
   },
   "source": [
    "\n",
    "!pip3 install 'torch==1.4.0'\n",
    "!pip3 install 'torchvision==0.5.0'\n",
    "!pip3 install 'Pillow-SIMD'\n",
    "!pip3 install 'tqdm'\n"
   ],
   "execution_count": null,
   "outputs": []
  },
  {
   "cell_type": "markdown",
   "metadata": {
    "id": "fo942LMOdlh4",
    "colab_type": "text"
   },
   "source": [
    "**Import libraries**"
   ]
  },
  {
   "cell_type": "code",
   "metadata": {
    "id": "DokFOdD1dJEl",
    "colab_type": "code",
    "pycharm": {
     "is_executing": false
    },
    "colab": {}
   },
   "source": [
    "import os\n",
    "\n",
    "import matplotlib.pyplot as plt\n",
    "import torch\n",
    "import torch.nn as nn\n",
    "import torch.optim as optim\n",
    "from torch.backends import cudnn\n",
    "from torch.utils.data import Subset, DataLoader\n",
    "from torchvision import transforms\n",
    "from torchvision.models import alexnet\n",
    "from tqdm import tqdm\n",
    "%matplotlib inline"
   ],
   "execution_count": 1,
   "outputs": [
    {
     "traceback": [
      "\u001b[1;31m---------------------------------------------------------------------------\u001b[0m",
      "\u001b[1;31mImportError\u001b[0m                               Traceback (most recent call last)",
      "\u001b[1;32m<ipython-input-1-aff7fb47de95>\u001b[0m in \u001b[0;36m<module>\u001b[1;34m\u001b[0m\n\u001b[0;32m      2\u001b[0m \u001b[1;33m\u001b[0m\u001b[0m\n\u001b[0;32m      3\u001b[0m \u001b[1;32mimport\u001b[0m \u001b[0mmatplotlib\u001b[0m\u001b[1;33m.\u001b[0m\u001b[0mpyplot\u001b[0m \u001b[1;32mas\u001b[0m \u001b[0mplt\u001b[0m\u001b[1;33m\u001b[0m\u001b[1;33m\u001b[0m\u001b[0m\n\u001b[1;32m----> 4\u001b[1;33m \u001b[1;32mimport\u001b[0m \u001b[0mtorch\u001b[0m\u001b[1;33m\u001b[0m\u001b[1;33m\u001b[0m\u001b[0m\n\u001b[0m\u001b[0;32m      5\u001b[0m \u001b[1;32mimport\u001b[0m \u001b[0mtorch\u001b[0m\u001b[1;33m.\u001b[0m\u001b[0mnn\u001b[0m \u001b[1;32mas\u001b[0m \u001b[0mnn\u001b[0m\u001b[1;33m\u001b[0m\u001b[1;33m\u001b[0m\u001b[0m\n\u001b[0;32m      6\u001b[0m \u001b[1;32mimport\u001b[0m \u001b[0mtorch\u001b[0m\u001b[1;33m.\u001b[0m\u001b[0moptim\u001b[0m \u001b[1;32mas\u001b[0m \u001b[0moptim\u001b[0m\u001b[1;33m\u001b[0m\u001b[1;33m\u001b[0m\u001b[0m\n",
      "\u001b[1;32mc:\\program files\\python37\\lib\\site-packages\\torch\\__init__.py\u001b[0m in \u001b[0;36m<module>\u001b[1;34m\u001b[0m\n\u001b[0;32m     79\u001b[0m \u001b[1;32mdel\u001b[0m \u001b[0m_dl_flags\u001b[0m\u001b[1;33m\u001b[0m\u001b[1;33m\u001b[0m\u001b[0m\n\u001b[0;32m     80\u001b[0m \u001b[1;33m\u001b[0m\u001b[0m\n\u001b[1;32m---> 81\u001b[1;33m \u001b[1;32mfrom\u001b[0m \u001b[0mtorch\u001b[0m\u001b[1;33m.\u001b[0m\u001b[0m_C\u001b[0m \u001b[1;32mimport\u001b[0m \u001b[1;33m*\u001b[0m\u001b[1;33m\u001b[0m\u001b[1;33m\u001b[0m\u001b[0m\n\u001b[0m\u001b[0;32m     82\u001b[0m \u001b[1;33m\u001b[0m\u001b[0m\n\u001b[0;32m     83\u001b[0m __all__ += [name for name in dir(_C)\n",
      "\u001b[1;31mImportError\u001b[0m: DLL load failed: Impossibile trovare il modulo specificato."
     ],
     "ename": "ImportError",
     "evalue": "DLL load failed: Impossibile trovare il modulo specificato.",
     "output_type": "error"
    }
   ]
  },
  {
   "cell_type": "markdown",
   "metadata": {
    "id": "OIDLJuIXK_vh",
    "colab_type": "text"
   },
   "source": [
    "**Set Arguments**"
   ]
  },
  {
   "cell_type": "code",
   "metadata": {
    "id": "d5PkYfqfK_SA",
    "colab_type": "code",
    "pycharm": {
     "is_executing": false
    },
    "colab": {}
   },
   "source": [
    "DEVICE = 'cuda' # 'cuda' or 'cpu'\n",
    "\n",
    "NUM_CLASSES = 101 # 101 + 1: There is an extra Background class that should be removed \n",
    "\n",
    "BATCH_SIZE = 256     # Higher batch sizes allows for larger learning rates. An empirical heuristic suggests that, when changing\n",
    "                     # the batch size, learning rate should change by the same factor to have comparable results\n",
    "\n",
    "LR = 3e-5          # The initial Learning Rate\n",
    "MOMENTUM = 0.9       # Hyperparameter for SGD, keep this at 0.9 when using SGD\n",
    "WEIGHT_DECAY = 5e-5  # Regularization, you can keep this at the default\n",
    "\n",
    "NUM_EPOCHS = 15      # Total number of training epochs (iterations over dataset)\n",
    "STEP_SIZE = 15       # How many epochs before decreasing learning rate (if using a step-down policy)\n",
    "GAMMA = 0.1          # Multiplicative factor for learning rate step-down\n",
    "\n",
    "LOG_FREQUENCY = 10\n",
    "\n",
    "BASE_FILE_PATH = \"DA_RUN18_LR3e-5_ADAMW_EP15_SS15_G01_ALL_TRANSF\"\n"
   ],
   "execution_count": null,
   "outputs": []
  },
  {
   "cell_type": "markdown",
   "metadata": {
    "id": "9gwii0TBHvzh",
    "colab_type": "text"
   },
   "source": [
    "**Define Data Preprocessing**"
   ]
  },
  {
   "cell_type": "code",
   "metadata": {
    "id": "QUDdw4j2H0Mc",
    "colab_type": "code",
    "pycharm": {
     "is_executing": false
    },
    "colab": {}
   },
   "source": [
    "# Define transforms for training phase\n",
    "\"\"\"train_transform = transforms.Compose([transforms.Resize(256),      # Resizes short size of the PIL image to 256\n",
    "                                      transforms.CenterCrop(224),  # Crops a central square patch of the image\n",
    "                                                                   # 224 because torchvision's AlexNet needs a 224x224 input!\n",
    "                                                                   # Remember this when applying different transformations, otherwise you get an error\n",
    "                                      transforms.ToTensor(), # Turn PIL Image to torch.Tensor\n",
    "                                      transforms.Normalize((0.485, 0.456, 0.406), (0.229, 0.224, 0.225)) # Normalizes tensor with mean and standard deviation\n",
    "])\"\"\"\n",
    "\n",
    "train_transform = transforms.Compose([\n",
    "                                      transforms.RandomApply([transforms.ColorJitter()], p=0.3),\n",
    "                                      transforms.RandomApply([transforms.Grayscale(3)], p=0.3),\n",
    "                                      transforms.RandomChoice([\n",
    "                                                               transforms.RandomHorizontalFlip(p=.5),\n",
    "                                                               transforms.RandomRotation(45)\n",
    "                                                               ]),\n",
    "                                      transforms.Resize(256),\n",
    "                                      transforms.RandomCrop(224),\n",
    "                                      transforms.ToTensor(),\n",
    "                                      transforms.Normalize((0.485, 0.456, 0.406), (0.229, 0.224, 0.225))\n",
    "])\n",
    "\n",
    "\n",
    "# Define transforms for the evaluation phase\n",
    "eval_transform = transforms.Compose([transforms.Resize(256),\n",
    "                                      transforms.CenterCrop(224),\n",
    "                                      transforms.ToTensor(),\n",
    "                                      transforms.Normalize((0.485, 0.456, 0.406), (0.229, 0.224, 0.225))                                    \n",
    "])"
   ],
   "execution_count": 2,
   "outputs": [
    {
     "traceback": [
      "\u001b[1;31m---------------------------------------------------------------------------\u001b[0m",
      "\u001b[1;31mNameError\u001b[0m                                 Traceback (most recent call last)",
      "\u001b[1;32m<ipython-input-2-a669c61f173f>\u001b[0m in \u001b[0;36m<module>\u001b[1;34m\u001b[0m\n\u001b[0;32m      8\u001b[0m ])\"\"\"\n\u001b[0;32m      9\u001b[0m \u001b[1;33m\u001b[0m\u001b[0m\n\u001b[1;32m---> 10\u001b[1;33m train_transform = transforms.Compose([\n\u001b[0m\u001b[0;32m     11\u001b[0m                                       \u001b[0mtransforms\u001b[0m\u001b[1;33m.\u001b[0m\u001b[0mRandomApply\u001b[0m\u001b[1;33m(\u001b[0m\u001b[1;33m[\u001b[0m\u001b[0mtransforms\u001b[0m\u001b[1;33m.\u001b[0m\u001b[0mColorJitter\u001b[0m\u001b[1;33m(\u001b[0m\u001b[1;33m)\u001b[0m\u001b[1;33m]\u001b[0m\u001b[1;33m,\u001b[0m \u001b[0mp\u001b[0m\u001b[1;33m=\u001b[0m\u001b[1;36m0.3\u001b[0m\u001b[1;33m)\u001b[0m\u001b[1;33m,\u001b[0m\u001b[1;33m\u001b[0m\u001b[1;33m\u001b[0m\u001b[0m\n\u001b[0;32m     12\u001b[0m                                       \u001b[0mtransforms\u001b[0m\u001b[1;33m.\u001b[0m\u001b[0mRandomApply\u001b[0m\u001b[1;33m(\u001b[0m\u001b[1;33m[\u001b[0m\u001b[0mtransforms\u001b[0m\u001b[1;33m.\u001b[0m\u001b[0mGrayscale\u001b[0m\u001b[1;33m(\u001b[0m\u001b[1;36m3\u001b[0m\u001b[1;33m)\u001b[0m\u001b[1;33m]\u001b[0m\u001b[1;33m,\u001b[0m \u001b[0mp\u001b[0m\u001b[1;33m=\u001b[0m\u001b[1;36m0.3\u001b[0m\u001b[1;33m)\u001b[0m\u001b[1;33m,\u001b[0m\u001b[1;33m\u001b[0m\u001b[1;33m\u001b[0m\u001b[0m\n",
      "\u001b[1;31mNameError\u001b[0m: name 'transforms' is not defined"
     ],
     "ename": "NameError",
     "evalue": "name 'transforms' is not defined",
     "output_type": "error"
    }
   ]
  },
  {
   "cell_type": "markdown",
   "metadata": {
    "id": "2qYIHPzYLY7i",
    "colab_type": "text"
   },
   "source": [
    "**Prepare Dataset**"
   ]
  },
  {
   "cell_type": "code",
   "metadata": {
    "id": "QfVq_uDHLbsR",
    "colab_type": "code",
    "pycharm": {
     "name": "#%%\n",
     "is_executing": false
    },
    "colab": {
     "base_uri": "https://localhost:8080/",
     "height": 119
    },
    "outputId": "0ca6aa2e-1bbb-4098-c4d9-52b9bc4c742f"
   },
   "source": [
    "# Clone github repository with data\n",
    "if not os.path.isdir('./Caltech101'):\n",
    "  !git clone https://github.com/lore-lml/Caltech101-ML-HW2.git\n",
    "  !mv 'Caltech101-ML-HW2' 'Caltech101'\n",
    "\n",
    "DATA_DIR = 'Caltech101/101_ObjectCategories'\n",
    "from Caltech101.caltech_dataset import Caltech\n",
    "import numpy as np\n",
    "\n",
    "# Prepare Pytorch train/test Datasets\n",
    "trainVal_dataset = Caltech(DATA_DIR, split='train',  transform=train_transform)\n",
    "test_dataset = Caltech(DATA_DIR, split='test', transform=eval_transform)\n",
    "\n",
    "\"\"\"train_len = int(train_dataset.__len__() / 2)\n",
    "val_len = train_dataset.__len__() - train_len\n",
    "train_dataset, val_dataset = random_split(train_dataset, [train_len, val_len])\"\"\"\n",
    "\n",
    "y_true = trainVal_dataset.get_labels()\n",
    "train_idx, val_idx = trainVal_dataset.get_train_val_idxs()\n",
    "\n",
    "train_dataset = Subset(trainVal_dataset, train_idx)\n",
    "val_dataset = Subset(trainVal_dataset, val_idx)\n",
    "\n",
    "# Check dataset sizes\n",
    "print(f\"# classes train_set: {len(set(y_true[train_idx]))}\")\n",
    "print(f\"# classes val_set: {len(set(y_true[val_idx]))}\")\n",
    "print(f\"# classes test_set: {len(set(test_dataset.get_labels()))}\")\n",
    "print('Train Dataset: {}'.format(len(train_dataset)))\n",
    "print('Valid Dataset: {}'.format(len(val_dataset)))\n",
    "print('Test Dataset: {}'.format(len(test_dataset)))\n"
   ],
   "execution_count": 3,
   "outputs": [
    {
     "traceback": [
      "\u001b[1;31m---------------------------------------------------------------------------\u001b[0m",
      "\u001b[1;31mImportError\u001b[0m                               Traceback (most recent call last)",
      "\u001b[1;32m<ipython-input-3-52d9ccae0a27>\u001b[0m in \u001b[0;36m<module>\u001b[1;34m\u001b[0m\n\u001b[0;32m      5\u001b[0m \u001b[1;33m\u001b[0m\u001b[0m\n\u001b[0;32m      6\u001b[0m \u001b[0mDATA_DIR\u001b[0m \u001b[1;33m=\u001b[0m \u001b[1;34m'Caltech101/101_ObjectCategories'\u001b[0m\u001b[1;33m\u001b[0m\u001b[1;33m\u001b[0m\u001b[0m\n\u001b[1;32m----> 7\u001b[1;33m \u001b[1;32mfrom\u001b[0m \u001b[0mCaltech101\u001b[0m\u001b[1;33m.\u001b[0m\u001b[0mcaltech_dataset\u001b[0m \u001b[1;32mimport\u001b[0m \u001b[0mCaltech\u001b[0m\u001b[1;33m\u001b[0m\u001b[1;33m\u001b[0m\u001b[0m\n\u001b[0m\u001b[0;32m      8\u001b[0m \u001b[1;32mimport\u001b[0m \u001b[0mnumpy\u001b[0m \u001b[1;32mas\u001b[0m \u001b[0mnp\u001b[0m\u001b[1;33m\u001b[0m\u001b[1;33m\u001b[0m\u001b[0m\n\u001b[0;32m      9\u001b[0m \u001b[1;33m\u001b[0m\u001b[0m\n",
      "\u001b[1;32mD:\\lorry\\Documents\\PyCharm\\Machine_Learning\\machine-learning2020-hw2\\Caltech101\\caltech_dataset.py\u001b[0m in \u001b[0;36m<module>\u001b[1;34m\u001b[0m\n\u001b[0;32m      6\u001b[0m \u001b[1;32mfrom\u001b[0m \u001b[0mPIL\u001b[0m \u001b[1;32mimport\u001b[0m \u001b[0mImage\u001b[0m\u001b[1;33m\u001b[0m\u001b[1;33m\u001b[0m\u001b[0m\n\u001b[0;32m      7\u001b[0m \u001b[1;32mfrom\u001b[0m \u001b[0msklearn\u001b[0m\u001b[1;33m.\u001b[0m\u001b[0mmodel_selection\u001b[0m \u001b[1;32mimport\u001b[0m \u001b[0mtrain_test_split\u001b[0m\u001b[1;33m\u001b[0m\u001b[1;33m\u001b[0m\u001b[0m\n\u001b[1;32m----> 8\u001b[1;33m \u001b[1;32mfrom\u001b[0m \u001b[0mtorch\u001b[0m\u001b[1;33m.\u001b[0m\u001b[0mutils\u001b[0m\u001b[1;33m.\u001b[0m\u001b[0mdata\u001b[0m \u001b[1;32mimport\u001b[0m \u001b[0mDataset\u001b[0m\u001b[1;33m\u001b[0m\u001b[1;33m\u001b[0m\u001b[0m\n\u001b[0m\u001b[0;32m      9\u001b[0m \u001b[1;32mfrom\u001b[0m \u001b[0mtorchvision\u001b[0m\u001b[1;33m.\u001b[0m\u001b[0mdatasets\u001b[0m \u001b[1;32mimport\u001b[0m \u001b[0mVisionDataset\u001b[0m\u001b[1;33m\u001b[0m\u001b[1;33m\u001b[0m\u001b[0m\n\u001b[0;32m     10\u001b[0m \u001b[1;33m\u001b[0m\u001b[0m\n",
      "\u001b[1;32mc:\\program files\\python37\\lib\\site-packages\\torch\\__init__.py\u001b[0m in \u001b[0;36m<module>\u001b[1;34m\u001b[0m\n\u001b[0;32m     79\u001b[0m \u001b[1;32mdel\u001b[0m \u001b[0m_dl_flags\u001b[0m\u001b[1;33m\u001b[0m\u001b[1;33m\u001b[0m\u001b[0m\n\u001b[0;32m     80\u001b[0m \u001b[1;33m\u001b[0m\u001b[0m\n\u001b[1;32m---> 81\u001b[1;33m \u001b[1;32mfrom\u001b[0m \u001b[0mtorch\u001b[0m\u001b[1;33m.\u001b[0m\u001b[0m_C\u001b[0m \u001b[1;32mimport\u001b[0m \u001b[1;33m*\u001b[0m\u001b[1;33m\u001b[0m\u001b[1;33m\u001b[0m\u001b[0m\n\u001b[0m\u001b[0;32m     82\u001b[0m \u001b[1;33m\u001b[0m\u001b[0m\n\u001b[0;32m     83\u001b[0m __all__ += [name for name in dir(_C)\n",
      "\u001b[1;31mImportError\u001b[0m: DLL load failed: Impossibile trovare il modulo specificato."
     ],
     "ename": "ImportError",
     "evalue": "DLL load failed: Impossibile trovare il modulo specificato.",
     "output_type": "error"
    }
   ]
  },
  {
   "cell_type": "markdown",
   "metadata": {
    "id": "FYEDQ7Z21ldN",
    "colab_type": "text"
   },
   "source": [
    "**Prepare Dataloaders**"
   ]
  },
  {
   "cell_type": "code",
   "metadata": {
    "id": "VriRw8SI1nle",
    "colab_type": "code",
    "pycharm": {
     "is_executing": false
    },
    "colab": {}
   },
   "source": [
    "# Dataloaders iterate over pytorch datasets and transparently provide useful functions (e.g. parallelization and shuffling)\n",
    "train_dataloader = DataLoader(train_dataset, batch_size=BATCH_SIZE, shuffle=True, num_workers=4, drop_last=True)\n",
    "val_dataloader = DataLoader(val_dataset, batch_size=BATCH_SIZE, shuffle=False, num_workers=4)\n",
    "\n",
    "test_dataloader = DataLoader(test_dataset, batch_size=BATCH_SIZE, shuffle=False, num_workers=4)"
   ],
   "execution_count": null,
   "outputs": []
  },
  {
   "cell_type": "markdown",
   "metadata": {
    "id": "gbZ1t5Qs2z4j",
    "colab_type": "text"
   },
   "source": [
    "**Prepare Network**"
   ]
  },
  {
   "cell_type": "code",
   "metadata": {
    "id": "exHUjtXa22DN",
    "colab_type": "code",
    "pycharm": {
     "is_executing": false
    },
    "colab": {}
   },
   "source": [
    "def get_Alexnet(pretrained=False):\n",
    "  net = alexnet(pretrained=pretrained)\n",
    "  # AlexNet has 1000 output neurons, corresponding to the 1000 ImageNet's classes\n",
    "  # We need 101 outputs for Caltech-101\n",
    "  # nn.Linear in pytorch is a fully connected layer\n",
    "  # The convolutional layer is nn.Conv2d\n",
    "  net.classifier[6] = nn.Linear(4096, NUM_CLASSES)\n",
    "  return net\n",
    "\n",
    "net = get_Alexnet(pretrained=True) # Loading AlexNet model\n",
    "\n",
    "# We just changed the last layer of AlexNet with a new fully connected layer with 101 outputs\n",
    "# It is strongly suggested to study torchvision.models.alexnet source code"
   ],
   "execution_count": null,
   "outputs": []
  },
  {
   "cell_type": "markdown",
   "metadata": {
    "id": "KEyL3H_R4qCf",
    "colab_type": "text"
   },
   "source": [
    "**Prepare Training**"
   ]
  },
  {
   "cell_type": "code",
   "metadata": {
    "id": "9sjq00G94tSc",
    "colab_type": "code",
    "pycharm": {
     "is_executing": false
    },
    "colab": {}
   },
   "source": [
    "def init_cnn_objects(model):\n",
    "  \n",
    "  # Define loss function\n",
    "  criterion = nn.CrossEntropyLoss() # for classification, we use Cross Entropy\n",
    "\n",
    "  # Choose parameters to optimize\n",
    "  # To access a different set of parameters, you have to access submodules of AlexNet\n",
    "  # (nn.Module objects, like AlexNet, implement the Composite Pattern)\n",
    "  # e.g.: parameters of the fully connected layers: net.classifier.parameters()\n",
    "  # e.g.: parameters of the convolutional layers: look at alexnet's source code ;) \n",
    "  parameters_to_optimize = model.parameters() # In this case we optimize over all the parameters of AlexNet\n",
    "\n",
    "  # Define optimizer\n",
    "  # An optimizer updates the weights based on loss\n",
    "  # We use SGD with momentum\n",
    "  #optimizer = optim.SGD(parameters_to_optimize, lr=LR, momentum=MOMENTUM, weight_decay=WEIGHT_DECAY)\n",
    "  #optimizer = optim.Adam(parameters_to_optimize, lr=LR,amsgrad=True)\n",
    "  optimizer = optim.AdamW(parameters_to_optimize, lr=LR,amsgrad=True, weight_decay=WEIGHT_DECAY)\n",
    "\n",
    "  # Define scheduler\n",
    "  # A scheduler dynamically changes learning rate\n",
    "  # The most common schedule is the step(-down), which multiplies learning rate by gamma every STEP_SIZE epochs\n",
    "  scheduler = optim.lr_scheduler.StepLR(optimizer, step_size=STEP_SIZE, gamma=GAMMA)\n",
    "\n",
    "  return criterion, optimizer, scheduler\n",
    "\n",
    "criterion, optimizer, scheduler = init_cnn_objects(net)"
   ],
   "execution_count": null,
   "outputs": []
  },
  {
   "cell_type": "code",
   "metadata": {
    "id": "jt-555M9VobA",
    "colab_type": "code",
    "colab": {}
   },
   "source": [
    "def evaluate(data_loader, model, is_validation=False):\n",
    "  model.train(False) # Set Network to evaluation mode\n",
    "  losses = []\n",
    "  cumulative_loss = .0\n",
    "  running_corrects = 0\n",
    "  for images, labels in tqdm(data_loader):\n",
    "    images = images.to(DEVICE)\n",
    "    labels = labels.to(DEVICE)\n",
    "\n",
    "    # Forward Pass\n",
    "    outputs = model(images)\n",
    "\n",
    "    # Loss\n",
    "    if is_validation:\n",
    "      loss = criterion(outputs, labels)\n",
    "      cumulative_loss += loss.item()\n",
    "\n",
    "    # Get predictions\n",
    "    _, preds = torch.max(outputs.data, 1)\n",
    "\n",
    "    # Update Corrects\n",
    "    running_corrects += torch.sum(preds == labels.data).data.item()\n",
    "\n",
    "  # Calculate Accuracy\n",
    "  accuracy = running_corrects / float(len(val_dataset))\n",
    "\n",
    "  print('Validation Accuracy: {}'.format(accuracy))\n",
    "  \n",
    "  return accuracy, cumulative_loss / len(data_loader)\n",
    "\n",
    "def train_model(model, base_file_path=BASE_FILE_PATH):\n",
    "  # List to store every loss of each step.\n",
    "  train_losses = []\n",
    "  val_losses = []\n",
    "  accuracies = []\n",
    "  loss_min = -1\n",
    "  # By default, everything is loaded to cpu\n",
    "  model = model.to(DEVICE) # this will bring the network to GPU if DEVICE is cuda\n",
    "\n",
    "  cudnn.benchmark # Calling this optimizes runtime\n",
    "\n",
    "  current_step = 0\n",
    "  # Start iterating over the epochs\n",
    "  for epoch in range(NUM_EPOCHS):\n",
    "    print('Starting epoch {}/{}, LR = {}'.format(epoch+1, NUM_EPOCHS, scheduler.get_lr()))\n",
    "\n",
    "    cumulative_loss = .0\n",
    "    # Iterate over the dataset\n",
    "    for images, labels in train_dataloader:\n",
    "    \n",
    "      # Bring data over the device of choice\n",
    "      images = images.to(DEVICE)\n",
    "      labels = labels.to(DEVICE)\n",
    "\n",
    "      model.train() # Sets module in training mode\n",
    "\n",
    "      # PyTorch, by default, accumulates gradients after each backward pass\n",
    "      # We need to manually set the gradients to zero before starting a new iteration\n",
    "      optimizer.zero_grad() # Zero-ing the gradients\n",
    "\n",
    "      # Forward pass to the network\n",
    "      outputs = model(images)\n",
    "\n",
    "      # Compute loss based on output and ground truth\n",
    "      loss = criterion(outputs, labels)\n",
    "      cumulative_loss += loss.item()\n",
    "\n",
    "      # Log loss\n",
    "      if current_step % LOG_FREQUENCY == 0:\n",
    "        print('Step {}, Loss_train {}'.format(current_step, loss.item()))\n",
    "\n",
    "      # Compute gradients for each layer and update weights\n",
    "      loss.backward()  # backward pass: computes gradients\n",
    "      optimizer.step() # update weights based on accumulated gradients\n",
    "\n",
    "      current_step += 1\n",
    "\n",
    "    # Evaluate Validation set and get accuracy and losses for the current epoch\n",
    "    curr_accuracy, curr_val_loss = evaluate(val_dataloader, model, is_validation=True)\n",
    "    print('Loss_val {}'.format(curr_val_loss))\n",
    "    # Avg of cumulative loss\n",
    "    train_losses.append(cumulative_loss / len(train_dataloader))\n",
    "    val_losses.append(curr_val_loss)\n",
    "    accuracies.append(curr_accuracy)\n",
    "    # If the loss reached a lower value than before, save model state\n",
    "    if loss_min == -1 or loss_min > curr_val_loss:\n",
    "      loss_min = curr_val_loss\n",
    "      torch.save(model, f\"{base_file_path}_best_model.pth\")\n",
    "    # Step the scheduler\n",
    "    scheduler.step() \n",
    "\n",
    "  print(\"\\n************ END OF TRAINING ***************\")\n",
    "  return train_losses, val_losses, accuracies"
   ],
   "execution_count": null,
   "outputs": []
  },
  {
   "cell_type": "markdown",
   "metadata": {
    "id": "AxYUli9d9uYQ",
    "colab_type": "text"
   },
   "source": [
    "**Train**"
   ]
  },
  {
   "cell_type": "code",
   "metadata": {
    "id": "ZcoQ5fD49yT_",
    "colab_type": "code",
    "pycharm": {
     "is_executing": false
    },
    "colab": {
     "base_uri": "https://localhost:8080/",
     "height": 1000
    },
    "outputId": "9e82f858-d890-474c-e66f-8e3c5e369146"
   },
   "source": [
    "train_losses_scratch, val_losses_scratch, accuracies_scratch = train_model(net, BASE_FILE_PATH)"
   ],
   "execution_count": null,
   "outputs": [
    {
     "output_type": "stream",
     "text": [
      "Starting epoch 1/15, LR = [3e-05]\n"
     ],
     "name": "stdout"
    },
    {
     "output_type": "stream",
     "text": [
      "/usr/local/lib/python3.6/dist-packages/torch/optim/lr_scheduler.py:351: UserWarning: To get the last learning rate computed by the scheduler, please use `get_last_lr()`.\n",
      "  \"please use `get_last_lr()`.\", UserWarning)\n"
     ],
     "name": "stderr"
    },
    {
     "output_type": "stream",
     "text": [
      "Step 0, Loss_train 4.8609395027160645\n"
     ],
     "name": "stdout"
    },
    {
     "output_type": "stream",
     "text": [
      "\r  0%|          | 0/12 [00:00<?, ?it/s]"
     ],
     "name": "stderr"
    },
    {
     "output_type": "stream",
     "text": [
      "Step 10, Loss_train 4.020678520202637\n"
     ],
     "name": "stdout"
    },
    {
     "output_type": "stream",
     "text": [
      "100%|██████████| 12/12 [00:10<00:00,  1.11it/s]\n"
     ],
     "name": "stderr"
    },
    {
     "output_type": "stream",
     "text": [
      "Validation Accuracy: 0.25380359612724757\n",
      "Loss_val 3.8391027450561523\n",
      "Starting epoch 2/15, LR = [3e-05]\n",
      "Step 20, Loss_train 3.2942986488342285\n"
     ],
     "name": "stdout"
    },
    {
     "output_type": "stream",
     "text": [
      "100%|██████████| 12/12 [00:10<00:00,  1.12it/s]\n"
     ],
     "name": "stderr"
    },
    {
     "output_type": "stream",
     "text": [
      "Validation Accuracy: 0.3070539419087137\n",
      "Loss_val 3.1101698676745095\n",
      "Starting epoch 3/15, LR = [3e-05]\n",
      "Step 30, Loss_train 2.600191831588745\n"
     ],
     "name": "stdout"
    },
    {
     "output_type": "stream",
     "text": [
      "100%|██████████| 12/12 [00:10<00:00,  1.14it/s]\n"
     ],
     "name": "stderr"
    },
    {
     "output_type": "stream",
     "text": [
      "Validation Accuracy: 0.42704011065006914\n",
      "Loss_val 2.608141839504242\n",
      "Starting epoch 4/15, LR = [3e-05]\n",
      "Step 40, Loss_train 2.1953530311584473\n"
     ],
     "name": "stdout"
    },
    {
     "output_type": "stream",
     "text": [
      "100%|██████████| 12/12 [00:10<00:00,  1.12it/s]\n"
     ],
     "name": "stderr"
    },
    {
     "output_type": "stream",
     "text": [
      "Validation Accuracy: 0.5110650069156293\n",
      "Loss_val 2.112651507059733\n",
      "Starting epoch 5/15, LR = [3e-05]\n",
      "Step 50, Loss_train 1.78926420211792\n"
     ],
     "name": "stdout"
    },
    {
     "output_type": "stream",
     "text": [
      "100%|██████████| 12/12 [00:10<00:00,  1.15it/s]\n"
     ],
     "name": "stderr"
    },
    {
     "output_type": "stream",
     "text": [
      "Validation Accuracy: 0.5791839557399724\n",
      "Loss_val 1.7256509562333424\n",
      "Starting epoch 6/15, LR = [3e-05]\n",
      "Step 60, Loss_train 1.4208937883377075\n"
     ],
     "name": "stdout"
    },
    {
     "output_type": "stream",
     "text": [
      "100%|██████████| 12/12 [00:10<00:00,  1.11it/s]\n"
     ],
     "name": "stderr"
    },
    {
     "output_type": "stream",
     "text": [
      "Validation Accuracy: 0.6431535269709544\n",
      "Loss_val 1.4703241089979808\n",
      "Starting epoch 7/15, LR = [3e-05]\n",
      "Step 70, Loss_train 1.1461986303329468\n"
     ],
     "name": "stdout"
    },
    {
     "output_type": "stream",
     "text": [
      "100%|██████████| 12/12 [00:10<00:00,  1.13it/s]\n"
     ],
     "name": "stderr"
    },
    {
     "output_type": "stream",
     "text": [
      "Validation Accuracy: 0.6663208852005532\n",
      "Loss_val 1.3254832128683727\n",
      "Starting epoch 8/15, LR = [3e-05]\n",
      "Step 80, Loss_train 1.0939322710037231\n"
     ],
     "name": "stdout"
    },
    {
     "output_type": "stream",
     "text": [
      "100%|██████████| 12/12 [00:10<00:00,  1.13it/s]\n"
     ],
     "name": "stderr"
    },
    {
     "output_type": "stream",
     "text": [
      "Validation Accuracy: 0.6825726141078838\n",
      "Loss_val 1.2242232660452526\n",
      "Starting epoch 9/15, LR = [3e-05]\n",
      "Step 90, Loss_train 0.9736042022705078\n"
     ],
     "name": "stdout"
    },
    {
     "output_type": "stream",
     "text": [
      "100%|██████████| 12/12 [00:10<00:00,  1.14it/s]\n"
     ],
     "name": "stderr"
    },
    {
     "output_type": "stream",
     "text": [
      "Validation Accuracy: 0.6946749654218534\n",
      "Loss_val 1.1732828319072723\n",
      "Starting epoch 10/15, LR = [3e-05]\n",
      "Step 100, Loss_train 0.7793921232223511\n"
     ],
     "name": "stdout"
    },
    {
     "output_type": "stream",
     "text": [
      "100%|██████████| 12/12 [00:10<00:00,  1.11it/s]\n"
     ],
     "name": "stderr"
    },
    {
     "output_type": "stream",
     "text": [
      "Validation Accuracy: 0.7123098201936376\n",
      "Loss_val 1.1153992265462875\n",
      "Starting epoch 11/15, LR = [3e-05]\n",
      "Step 110, Loss_train 0.6895582675933838\n"
     ],
     "name": "stdout"
    },
    {
     "output_type": "stream",
     "text": [
      "\r  0%|          | 0/12 [00:00<?, ?it/s]"
     ],
     "name": "stderr"
    },
    {
     "output_type": "stream",
     "text": [
      "Step 120, Loss_train 0.6327847242355347\n"
     ],
     "name": "stdout"
    },
    {
     "output_type": "stream",
     "text": [
      "100%|██████████| 12/12 [00:10<00:00,  1.13it/s]\n"
     ],
     "name": "stderr"
    },
    {
     "output_type": "stream",
     "text": [
      "Validation Accuracy: 0.7278699861687413\n",
      "Loss_val 1.0550772349039714\n",
      "Starting epoch 12/15, LR = [3e-05]\n",
      "Step 130, Loss_train 0.6561768651008606\n"
     ],
     "name": "stdout"
    },
    {
     "output_type": "stream",
     "text": [
      "100%|██████████| 12/12 [00:10<00:00,  1.13it/s]\n"
     ],
     "name": "stderr"
    },
    {
     "output_type": "stream",
     "text": [
      "Validation Accuracy: 0.7375518672199171\n",
      "Loss_val 1.0409518678983052\n",
      "Starting epoch 13/15, LR = [3e-05]\n",
      "Step 140, Loss_train 0.5575341582298279\n"
     ],
     "name": "stdout"
    },
    {
     "output_type": "stream",
     "text": [
      "100%|██████████| 12/12 [00:10<00:00,  1.13it/s]\n"
     ],
     "name": "stderr"
    },
    {
     "output_type": "stream",
     "text": [
      "Validation Accuracy: 0.7403181189488244\n",
      "Loss_val 1.0091201762358348\n",
      "Starting epoch 14/15, LR = [3e-05]\n",
      "Step 150, Loss_train 0.576063871383667\n"
     ],
     "name": "stdout"
    },
    {
     "output_type": "stream",
     "text": [
      "100%|██████████| 12/12 [00:10<00:00,  1.13it/s]\n"
     ],
     "name": "stderr"
    },
    {
     "output_type": "stream",
     "text": [
      "Validation Accuracy: 0.7482710926694329\n",
      "Loss_val 0.9810458372036616\n",
      "Starting epoch 15/15, LR = [3e-05]\n",
      "Step 160, Loss_train 0.33688294887542725\n"
     ],
     "name": "stdout"
    },
    {
     "output_type": "stream",
     "text": [
      "100%|██████████| 12/12 [00:10<00:00,  1.13it/s]\n"
     ],
     "name": "stderr"
    },
    {
     "output_type": "stream",
     "text": [
      "Validation Accuracy: 0.7503457814661134\n",
      "Loss_val 0.9804651985565821\n",
      "\n",
      "************ END OF TRAINING ***************\n"
     ],
     "name": "stdout"
    }
   ]
  },
  {
   "cell_type": "code",
   "metadata": {
    "id": "ajilYpLrfNRR",
    "colab_type": "code",
    "colab": {
     "base_uri": "https://localhost:8080/",
     "height": 34
    },
    "outputId": "6c35fd6e-ffe1-4d6f-98b8-ff0e51129747"
   },
   "source": [
    "def save_results(file_name, train_losses, val_losses, accuracies):\n",
    "  with open(file_name, \"w\", encoding=\"utf-8\") as f:\n",
    "    f.write(\"train_loss,val_loss,accuracy\\n\")\n",
    "    for tl,vl,accuracy in zip(train_losses, val_losses, accuracies):\n",
    "      f.write(f\"{tl},{vl},{accuracy}\\n\")\n",
    "\n",
    "save_results(f\"{BASE_FILE_PATH}_data.csv\", train_losses_scratch, val_losses_scratch, accuracies_scratch)\n",
    "print(\"*************** DATA SAVED *************\")"
   ],
   "execution_count": null,
   "outputs": [
    {
     "output_type": "stream",
     "text": [
      "*************** DATA SAVED *************\n"
     ],
     "name": "stdout"
    }
   ]
  },
  {
   "cell_type": "code",
   "metadata": {
    "id": "ouyZnZRRryIr",
    "colab_type": "code",
    "colab": {
     "base_uri": "https://localhost:8080/",
     "height": 541
    },
    "outputId": "7e8a31e7-12fc-454a-ae05-95cae6a97b12"
   },
   "source": [
    "\n",
    "epochs = np.arange(1, NUM_EPOCHS+1)\n",
    "plt.figure()\n",
    "# plt.scatter(epochs, train_losses, c=\"darkorange\", s=20)\n",
    "plt.plot(epochs, train_losses_scratch, label=\"train\")\n",
    "plt.plot(epochs, val_losses_scratch, label=\"val\")\n",
    "plt.legend(loc=\"upper right\")\n",
    "plt.xlabel('Epoch')\n",
    "plt.ylabel('Loss')\n",
    "\n",
    "plt.figure()\n",
    "plt.scatter(epochs, accuracies_scratch, c=\"darkorange\", s=20)\n",
    "plt.plot(epochs, accuracies_scratch, zorder=-1)\n",
    "plt.xlabel('Epoch')\n",
    "plt.ylabel('Accuracy')\n",
    "\n",
    "plt.show()"
   ],
   "execution_count": null,
   "outputs": [
    {
     "output_type": "display_data",
     "data": {
      "image/png": "[encoded data removed]",
      "text/plain": [
       "<Figure size 432x288 with 1 Axes>"
      ]
     },
     "metadata": {
      "tags": [],
      "needs_background": "light"
     }
    },
    {
     "output_type": "display_data",
     "data": {
      "image/png": "[encoded data removed]",
      "text/plain": [
       "<Figure size 432x288 with 1 Axes>"
      ]
     },
     "metadata": {
      "tags": [],
      "needs_background": "light"
     }
    }
   ]
  },
  {
   "cell_type": "markdown",
   "metadata": {
    "id": "jxekmR745ySe",
    "colab_type": "text"
   },
   "source": [
    "**Test**"
   ]
  },
  {
   "cell_type": "code",
   "metadata": {
    "id": "fSHcUqLB5yWO",
    "colab_type": "code",
    "pycharm": {
     "is_executing": false
    },
    "colab": {
     "base_uri": "https://localhost:8080/",
     "height": 51
    },
    "outputId": "b3e24f17-a6cd-4074-b8bb-2ee2e11edad9"
   },
   "source": [
    "best_model = torch.load(f\"{BASE_FILE_PATH}_best_model.pth\").to(DEVICE)\n",
    "best_model.eval()\n",
    "accuracy,_ = evaluate(test_dataloader, best_model, is_validation=False)\n",
    "\n",
    "with open(f\"{BASE_FILE_PATH}_final_result.txt\", \"w\", encoding=\"utf-8\") as f:\n",
    "  f.write(\"*************** TRAINING FROM SCRATCH ***************\\n\")\n",
    "  f.write(f\"LR = {LR}\\nAccuracy on test = {accuracy}\\nLoss_min = {min(val_losses_scratch)}\\n\\n\")\n"
   ],
   "execution_count": null,
   "outputs": [
    {
     "output_type": "stream",
     "text": [
      "100%|██████████| 12/12 [00:11<00:00,  1.07it/s]"
     ],
     "name": "stderr"
    },
    {
     "output_type": "stream",
     "text": [
      "Validation Accuracy: 0.8042876901798064\n"
     ],
     "name": "stdout"
    },
    {
     "output_type": "stream",
     "text": [
      "\n"
     ],
     "name": "stderr"
    }
   ]
  },
  {
   "cell_type": "markdown",
   "metadata": {
    "id": "fNm9RmvcbTcz",
    "colab_type": "text"
   },
   "source": [
    "# Using best model, and freeze layers"
   ]
  },
  {
   "cell_type": "code",
   "metadata": {
    "id": "Uw5HyiIyLeCP",
    "colab_type": "code",
    "colab": {}
   },
   "source": [
    "def is_layers_unfreezed(model):\n",
    "  for param in model.parameters():\n",
    "    print(param.requires_grad)"
   ],
   "execution_count": null,
   "outputs": []
  },
  {
   "cell_type": "code",
   "metadata": {
    "id": "CTWrTh9TbqVq",
    "colab_type": "code",
    "colab": {
     "base_uri": "https://localhost:8080/",
     "height": 289
    },
    "outputId": "ec0b98ee-0d5c-46ca-d9a2-8b421f61efe8"
   },
   "source": [
    "net_only_full = get_Alexnet(True)\n",
    "# Freeze Conv Layers\n",
    "conv_layers = net_only_full.features.parameters()\n",
    "\n",
    "for par in conv_layers:\n",
    "  par.requires_grad = False\n",
    "\n",
    "criterion, optimizer, scheduler = init_cnn_objects(net_only_full)\n",
    "is_layers_unfreezed(net_only_full)\n",
    "path = f\"{BASE_FILE_PATH}_only_full\"\n"
   ],
   "execution_count": null,
   "outputs": [
    {
     "output_type": "stream",
     "text": [
      "False\n",
      "False\n",
      "False\n",
      "False\n",
      "False\n",
      "False\n",
      "False\n",
      "False\n",
      "False\n",
      "False\n",
      "True\n",
      "True\n",
      "True\n",
      "True\n",
      "True\n",
      "True\n"
     ],
     "name": "stdout"
    }
   ]
  },
  {
   "cell_type": "code",
   "metadata": {
    "id": "EWkwIELCmT1o",
    "colab_type": "code",
    "colab": {
     "base_uri": "https://localhost:8080/",
     "height": 1000
    },
    "outputId": "341dbb40-8cf5-4787-8d96-1476122108dc"
   },
   "source": [
    "train_losses_only_full, val_losses_only_full, accuracies_only_full = train_model(net_only_full, path)\n",
    "\n",
    "epochs = np.arange(1, NUM_EPOCHS+1)\n",
    "plt.figure()\n",
    "plt.plot(epochs, train_losses_only_full, label=\"train\")\n",
    "plt.plot(epochs, val_losses_only_full, label=\"val\")\n",
    "plt.legend(loc=\"upper right\")\n",
    "plt.xlabel('Epoch')\n",
    "plt.ylabel('Loss')\n",
    "\n",
    "plt.figure()\n",
    "plt.scatter(epochs, accuracies_only_full, c=\"darkorange\", s=20)\n",
    "plt.plot(epochs, accuracies_only_full, zorder=-1)\n",
    "plt.xlabel('Epoch')\n",
    "plt.ylabel('Accuracy')\n",
    "\n",
    "plt.show()"
   ],
   "execution_count": null,
   "outputs": [
    {
     "output_type": "stream",
     "text": [
      "Starting epoch 1/15, LR = [3e-05]\n"
     ],
     "name": "stdout"
    },
    {
     "output_type": "stream",
     "text": [
      "/usr/local/lib/python3.6/dist-packages/torch/optim/lr_scheduler.py:351: UserWarning: To get the last learning rate computed by the scheduler, please use `get_last_lr()`.\n",
      "  \"please use `get_last_lr()`.\", UserWarning)\n"
     ],
     "name": "stderr"
    },
    {
     "output_type": "stream",
     "text": [
      "Step 0, Loss_train 4.768636703491211\n"
     ],
     "name": "stdout"
    },
    {
     "output_type": "stream",
     "text": [
      "\r  0%|          | 0/12 [00:00<?, ?it/s]"
     ],
     "name": "stderr"
    },
    {
     "output_type": "stream",
     "text": [
      "Step 10, Loss_train 3.9220221042633057\n"
     ],
     "name": "stdout"
    },
    {
     "output_type": "stream",
     "text": [
      "100%|██████████| 12/12 [00:10<00:00,  1.13it/s]\n"
     ],
     "name": "stderr"
    },
    {
     "output_type": "stream",
     "text": [
      "Validation Accuracy: 0.25864453665283543\n",
      "Loss_val 3.8173309167226157\n",
      "Starting epoch 2/15, LR = [3e-05]\n",
      "Step 20, Loss_train 3.327472448348999\n"
     ],
     "name": "stdout"
    },
    {
     "output_type": "stream",
     "text": [
      "100%|██████████| 12/12 [00:10<00:00,  1.12it/s]\n"
     ],
     "name": "stderr"
    },
    {
     "output_type": "stream",
     "text": [
      "Validation Accuracy: 0.30567081604426005\n",
      "Loss_val 3.1621376077334085\n",
      "Starting epoch 3/15, LR = [3e-05]\n",
      "Step 30, Loss_train 2.834895372390747\n"
     ],
     "name": "stdout"
    },
    {
     "output_type": "stream",
     "text": [
      "100%|██████████| 12/12 [00:10<00:00,  1.12it/s]\n"
     ],
     "name": "stderr"
    },
    {
     "output_type": "stream",
     "text": [
      "Validation Accuracy: 0.39107883817427386\n",
      "Loss_val 2.732784390449524\n",
      "Starting epoch 4/15, LR = [3e-05]\n",
      "Step 40, Loss_train 2.5588653087615967\n"
     ],
     "name": "stdout"
    },
    {
     "output_type": "stream",
     "text": [
      "100%|██████████| 12/12 [00:10<00:00,  1.12it/s]\n"
     ],
     "name": "stderr"
    },
    {
     "output_type": "stream",
     "text": [
      "Validation Accuracy: 0.48858921161825725\n",
      "Loss_val 2.367352604866028\n",
      "Starting epoch 5/15, LR = [3e-05]\n",
      "Step 50, Loss_train 2.168797254562378\n"
     ],
     "name": "stdout"
    },
    {
     "output_type": "stream",
     "text": [
      "100%|██████████| 12/12 [00:10<00:00,  1.14it/s]\n"
     ],
     "name": "stderr"
    },
    {
     "output_type": "stream",
     "text": [
      "Validation Accuracy: 0.5397648686030428\n",
      "Loss_val 2.0452783604462943\n",
      "Starting epoch 6/15, LR = [3e-05]\n",
      "Step 60, Loss_train 1.7151020765304565\n"
     ],
     "name": "stdout"
    },
    {
     "output_type": "stream",
     "text": [
      "100%|██████████| 12/12 [00:10<00:00,  1.17it/s]\n"
     ],
     "name": "stderr"
    },
    {
     "output_type": "stream",
     "text": [
      "Validation Accuracy: 0.5954356846473029\n",
      "Loss_val 1.7604862749576569\n",
      "Starting epoch 7/15, LR = [3e-05]\n",
      "Step 70, Loss_train 1.6055642366409302\n"
     ],
     "name": "stdout"
    },
    {
     "output_type": "stream",
     "text": [
      "100%|██████████| 12/12 [00:10<00:00,  1.19it/s]\n"
     ],
     "name": "stderr"
    },
    {
     "output_type": "stream",
     "text": [
      "Validation Accuracy: 0.6434993084370678\n",
      "Loss_val 1.5137275954087575\n",
      "Starting epoch 8/15, LR = [3e-05]\n",
      "Step 80, Loss_train 1.1230287551879883\n"
     ],
     "name": "stdout"
    },
    {
     "output_type": "stream",
     "text": [
      "100%|██████████| 12/12 [00:10<00:00,  1.20it/s]\n"
     ],
     "name": "stderr"
    },
    {
     "output_type": "stream",
     "text": [
      "Validation Accuracy: 0.6829183955739973\n",
      "Loss_val 1.3347110946973164\n",
      "Starting epoch 9/15, LR = [3e-05]\n",
      "Step 90, Loss_train 1.2341071367263794\n"
     ],
     "name": "stdout"
    },
    {
     "output_type": "stream",
     "text": [
      "100%|██████████| 12/12 [00:09<00:00,  1.20it/s]\n"
     ],
     "name": "stderr"
    },
    {
     "output_type": "stream",
     "text": [
      "Validation Accuracy: 0.686030428769018\n",
      "Loss_val 1.2071138322353363\n",
      "Starting epoch 10/15, LR = [3e-05]\n",
      "Step 100, Loss_train 0.9625970721244812\n"
     ],
     "name": "stdout"
    },
    {
     "output_type": "stream",
     "text": [
      "100%|██████████| 12/12 [00:10<00:00,  1.19it/s]\n"
     ],
     "name": "stderr"
    },
    {
     "output_type": "stream",
     "text": [
      "Validation Accuracy: 0.7043568464730291\n",
      "Loss_val 1.1213440050681431\n",
      "Starting epoch 11/15, LR = [3e-05]\n",
      "Step 110, Loss_train 0.7411473989486694\n"
     ],
     "name": "stdout"
    },
    {
     "output_type": "stream",
     "text": [
      "\r  0%|          | 0/12 [00:00<?, ?it/s]"
     ],
     "name": "stderr"
    },
    {
     "output_type": "stream",
     "text": [
      "Step 120, Loss_train 0.8011756539344788\n"
     ],
     "name": "stdout"
    },
    {
     "output_type": "stream",
     "text": [
      "100%|██████████| 12/12 [00:09<00:00,  1.21it/s]\n"
     ],
     "name": "stderr"
    },
    {
     "output_type": "stream",
     "text": [
      "Validation Accuracy: 0.7195712309820194\n",
      "Loss_val 1.0759529421726863\n",
      "Starting epoch 12/15, LR = [3e-05]\n",
      "Step 130, Loss_train 0.7341960668563843\n"
     ],
     "name": "stdout"
    },
    {
     "output_type": "stream",
     "text": [
      "100%|██████████| 12/12 [00:10<00:00,  1.20it/s]\n"
     ],
     "name": "stderr"
    },
    {
     "output_type": "stream",
     "text": [
      "Validation Accuracy: 0.7268326417704011\n",
      "Loss_val 1.040119965871175\n",
      "Starting epoch 13/15, LR = [3e-05]\n",
      "Step 140, Loss_train 0.6724228262901306\n"
     ],
     "name": "stdout"
    },
    {
     "output_type": "stream",
     "text": [
      "100%|██████████| 12/12 [00:10<00:00,  1.18it/s]\n"
     ],
     "name": "stderr"
    },
    {
     "output_type": "stream",
     "text": [
      "Validation Accuracy: 0.7392807745504841\n",
      "Loss_val 1.0123058954874675\n",
      "Starting epoch 14/15, LR = [3e-05]\n",
      "Step 150, Loss_train 0.6226800680160522\n"
     ],
     "name": "stdout"
    },
    {
     "output_type": "stream",
     "text": [
      "100%|██████████| 12/12 [00:10<00:00,  1.19it/s]\n"
     ],
     "name": "stderr"
    },
    {
     "output_type": "stream",
     "text": [
      "Validation Accuracy: 0.7475795297372061\n",
      "Loss_val 0.9608256965875626\n",
      "Starting epoch 15/15, LR = [3e-05]\n",
      "Step 160, Loss_train 0.583574652671814\n"
     ],
     "name": "stdout"
    },
    {
     "output_type": "stream",
     "text": [
      "100%|██████████| 12/12 [00:09<00:00,  1.23it/s]\n"
     ],
     "name": "stderr"
    },
    {
     "output_type": "stream",
     "text": [
      "Validation Accuracy: 0.7479253112033195\n",
      "Loss_val 0.958409383893013\n",
      "\n",
      "************ END OF TRAINING ***************\n"
     ],
     "name": "stdout"
    },
    {
     "output_type": "display_data",
     "data": {
      "image/png": "[encoded data removed]",
      "text/plain": [
       "<Figure size 432x288 with 1 Axes>"
      ]
     },
     "metadata": {
      "tags": [],
      "needs_background": "light"
     }
    },
    {
     "output_type": "display_data",
     "data": {
      "image/png": "[encoded data removed]",
      "text/plain": [
       "<Figure size 432x288 with 1 Axes>"
      ]
     },
     "metadata": {
      "tags": [],
      "needs_background": "light"
     }
    }
   ]
  },
  {
   "cell_type": "code",
   "metadata": {
    "id": "Z3G6A5zyrj8C",
    "colab_type": "code",
    "colab": {
     "base_uri": "https://localhost:8080/",
     "height": 34
    },
    "outputId": "9bcf41bb-7b64-4025-ff3f-953fd3ed5b9e"
   },
   "source": [
    "save_results(f\"{path}_data.csv\", train_losses_only_full, val_losses_only_full, accuracies_only_full)\n",
    "print(\"*************** DATA SAVED *************\")"
   ],
   "execution_count": null,
   "outputs": [
    {
     "output_type": "stream",
     "text": [
      "*************** DATA SAVED *************\n"
     ],
     "name": "stdout"
    }
   ]
  },
  {
   "cell_type": "code",
   "metadata": {
    "id": "foHD7lX5rPrn",
    "colab_type": "code",
    "colab": {
     "base_uri": "https://localhost:8080/",
     "height": 51
    },
    "outputId": "c121f864-cf04-4f34-9d03-f966c7f0a17e"
   },
   "source": [
    "best_model_only_full = torch.load(f\"{path}_best_model.pth\").to(DEVICE)\n",
    "best_model_only_full.eval()\n",
    "accuracy,_ = evaluate(test_dataloader, best_model_only_full, is_validation=False)\n",
    "\n",
    "with open(f\"{BASE_FILE_PATH}_final_result.txt\", \"a\", encoding=\"utf-8\") as f:\n",
    "  f.write(\"*************** TRAINING ONLY FULL ***************\\n\")\n",
    "  f.write(f\"LR = {LR}\\nAccuracy on test = {accuracy}\\nLoss_min = {min(val_losses_only_full)}\\n\\n\")"
   ],
   "execution_count": null,
   "outputs": [
    {
     "output_type": "stream",
     "text": [
      "100%|██████████| 12/12 [00:09<00:00,  1.21it/s]"
     ],
     "name": "stderr"
    },
    {
     "output_type": "stream",
     "text": [
      "Validation Accuracy: 0.8195020746887967\n"
     ],
     "name": "stdout"
    },
    {
     "output_type": "stream",
     "text": [
      "\n"
     ],
     "name": "stderr"
    }
   ]
  },
  {
   "cell_type": "markdown",
   "metadata": {
    "id": "aA44mxi0ZmIO",
    "colab_type": "text"
   },
   "source": [
    "# Graph losses and accuracies over unfreezed and only_full nets"
   ]
  },
  {
   "cell_type": "code",
   "metadata": {
    "id": "eH9Sg7hPZlE6",
    "colab_type": "code",
    "colab": {
     "base_uri": "https://localhost:8080/",
     "height": 541
    },
    "outputId": "a0022b7e-a8f0-46d2-bc33-346374e4d0d3"
   },
   "source": [
    "epochs = np.arange(1, NUM_EPOCHS+1)\n",
    "plt.figure()\n",
    "plt.plot(epochs, val_losses_scratch, label=\"unfreezed\")\n",
    "plt.plot(epochs, val_losses_only_full, label=\"only linear\")\n",
    "#plt.plot(epochs, val_losses_only_conv, label=\"only conv\")\n",
    "plt.legend(loc=\"upper right\")\n",
    "plt.xlabel('Epoch')\n",
    "plt.ylabel('Loss')\n",
    "\n",
    "plt.figure()\n",
    "plt.plot(epochs, accuracies_scratch, label=\"unfreezed\")\n",
    "plt.plot(epochs, accuracies_only_full, label=\"only linear\")\n",
    "#plt.plot(epochs, accuracies_only_conv, label=\"only conv\")\n",
    "plt.legend(loc=\"lower right\")\n",
    "plt.xlabel('Epoch')\n",
    "plt.ylabel('Accuracy')\n",
    "\n",
    "plt.show()"
   ],
   "execution_count": null,
   "outputs": [
    {
     "output_type": "display_data",
     "data": {
      "image/png": "[encoded data removed]",
      "text/plain": [
       "<Figure size 432x288 with 1 Axes>"
      ]
     },
     "metadata": {
      "tags": [],
      "needs_background": "light"
     }
    },
    {
     "output_type": "display_data",
     "data": {
      "image/png": "[encoded data removed]",
      "text/plain": [
       "<Figure size 432x288 with 1 Axes>"
      ]
     },
     "metadata": {
      "tags": [],
      "needs_background": "light"
     }
    }
   ]
  }
 ]
}